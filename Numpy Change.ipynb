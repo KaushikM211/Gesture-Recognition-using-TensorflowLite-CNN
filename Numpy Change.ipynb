{
 "cells": [
  {
   "cell_type": "code",
   "execution_count": 1,
   "metadata": {},
   "outputs": [],
   "source": [
    "# Importing the required packages\n",
    "import glob\n",
    "import os\n",
    "from PIL import Image\n",
    "import numpy as np"
   ]
  },
  {
   "cell_type": "code",
   "execution_count": 2,
   "metadata": {},
   "outputs": [],
   "source": [
    "# Function used to scale image data ndarray between 0 and 1\n",
    "def normalize(x):\n",
    "    return np.array((x - np.min(x)) / (np.max(x) - np.min(x)))"
   ]
  },
  {
   "cell_type": "code",
   "execution_count": 3,
   "metadata": {},
   "outputs": [],
   "source": [
    "# Function used to load the images from the directory\n",
    "def load_image_from_directory(path,size,img_tot):\n",
    "    #img_array will store all images corresponding to images in a particular folder\n",
    "    img_array=[]\n",
    "    path=os.path.join(path,\"*.*\")\n",
    "    paths=glob.glob(path)\n",
    "    for i in range(0,img_tot):\n",
    "        img=Image.open(paths[i])\n",
    "        img=img.resize(size)\n",
    "        img=np.asarray(img,dtype=np.float16)\n",
    "        img=normalize(img)\n",
    "        img=np.expand_dims(img, axis=0)\n",
    "        if len(img_array)==0:\n",
    "            img_array=img\n",
    "        else:\n",
    "            img_array=np.concatenate((img_array,img),axis=0)\n",
    "      \n",
    "    return img_array"
   ]
  },
  {
   "cell_type": "code",
   "execution_count": 4,
   "metadata": {},
   "outputs": [],
   "source": [
    "# Total images that we consider for each category\n",
    "total_img_per_category = 200"
   ]
  },
  {
   "cell_type": "code",
   "execution_count": 5,
   "metadata": {},
   "outputs": [],
   "source": [
    "path = 'leapGestRecog/01_palm'\n",
    "size = (320, 120)\n",
    "Palm_data = load_image_from_directory(path, size, total_img_per_category)\n",
    "np.save('Palm_data.npy', Palm_data)"
   ]
  },
  {
   "cell_type": "code",
   "execution_count": 6,
   "metadata": {},
   "outputs": [],
   "source": [
    "path = 'leapGestRecog/02_l'\n",
    "size = (320, 120)\n",
    "Lshape_data = load_image_from_directory(path, size, total_img_per_category)\n",
    "np.save('Lshape_data.npy', Lshape_data)"
   ]
  },
  {
   "cell_type": "code",
   "execution_count": 7,
   "metadata": {},
   "outputs": [],
   "source": [
    "path = 'leapGestRecog/03_fist'\n",
    "size = (320, 120)\n",
    "Fist_data = load_image_from_directory(path, size, total_img_per_category)\n",
    "np.save('Fist_data.npy', Fist_data)"
   ]
  },
  {
   "cell_type": "code",
   "execution_count": 8,
   "metadata": {},
   "outputs": [],
   "source": [
    "path = 'leapGestRecog/04_fist_moved'\n",
    "size = (320, 120)\n",
    "Fistm_data = load_image_from_directory(path, size, total_img_per_category)\n",
    "np.save('Fistm_data.npy', Fistm_data)"
   ]
  },
  {
   "cell_type": "code",
   "execution_count": 9,
   "metadata": {},
   "outputs": [],
   "source": [
    "path = 'leapGestRecog/05_thumb'\n",
    "size = (320, 120)\n",
    "Thumb_data = load_image_from_directory(path, size, total_img_per_category)\n",
    "np.save('Thumb_data.npy', Thumb_data)"
   ]
  },
  {
   "cell_type": "code",
   "execution_count": 10,
   "metadata": {},
   "outputs": [],
   "source": [
    "path = 'leapGestRecog/06_index'\n",
    "size = (320, 120)\n",
    "Index_data = load_image_from_directory(path, size, total_img_per_category)\n",
    "np.save('Index_data.npy', Index_data)"
   ]
  },
  {
   "cell_type": "code",
   "execution_count": 11,
   "metadata": {},
   "outputs": [],
   "source": [
    "path = 'leapGestRecog/07_ok'\n",
    "size = (320, 120)\n",
    "Ok_data = load_image_from_directory(path, size, total_img_per_category)\n",
    "np.save('Ok_data.npy', Ok_data)"
   ]
  },
  {
   "cell_type": "code",
   "execution_count": 12,
   "metadata": {},
   "outputs": [],
   "source": [
    "path = 'leapGestRecog/08_palm_moved'\n",
    "size = (320, 120)\n",
    "Palm_m_data = load_image_from_directory(path, size, total_img_per_category)\n",
    "np.save('Palm_m_data.npy', Palm_m_data)"
   ]
  },
  {
   "cell_type": "code",
   "execution_count": 13,
   "metadata": {},
   "outputs": [],
   "source": [
    "path = 'leapGestRecog/09_c'\n",
    "size = (320, 120)\n",
    "C_data = load_image_from_directory(path, size, total_img_per_category)\n",
    "np.save('C_data.npy', C_data)"
   ]
  },
  {
   "cell_type": "code",
   "execution_count": 14,
   "metadata": {},
   "outputs": [],
   "source": [
    "path = 'leapGestRecog/10_down'\n",
    "size = (320, 120)\n",
    "Down_data = load_image_from_directory(path, size, total_img_per_category)\n",
    "np.save('Down_data.npy', Down_data)"
   ]
  },
  {
   "cell_type": "code",
   "execution_count": null,
   "metadata": {},
   "outputs": [],
   "source": []
  }
 ],
 "metadata": {
  "kernelspec": {
   "display_name": "Python 3",
   "language": "python",
   "name": "python3"
  },
  "language_info": {
   "codemirror_mode": {
    "name": "ipython",
    "version": 3
   },
   "file_extension": ".py",
   "mimetype": "text/x-python",
   "name": "python",
   "nbconvert_exporter": "python",
   "pygments_lexer": "ipython3",
   "version": "3.7.4"
  }
 },
 "nbformat": 4,
 "nbformat_minor": 2
}
